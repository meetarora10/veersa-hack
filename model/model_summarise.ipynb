{
  "nbformat": 4,
  "nbformat_minor": 0,
  "metadata": {
    "colab": {
      "provenance": [],
      "authorship_tag": "ABX9TyNCVmoDj8f1p8JMhaEeHLZ+",
      "include_colab_link": true
    },
    "kernelspec": {
      "name": "python3",
      "display_name": "Python 3"
    },
    "language_info": {
      "name": "python"
    }
  },
  "cells": [
    {
      "cell_type": "markdown",
      "metadata": {
        "id": "view-in-github",
        "colab_type": "text"
      },
      "source": [
        "<a href=\"https://colab.research.google.com/github/meetarora10/veersa-hack/blob/main/model_summarise.ipynb\" target=\"_parent\"><img src=\"https://colab.research.google.com/assets/colab-badge.svg\" alt=\"Open In Colab\"/></a>"
      ]
    },
    {
      "cell_type": "code",
      "source": [
        "!pip install transformers fpdf2 torch\n"
      ],
      "metadata": {
        "colab": {
          "base_uri": "https://localhost:8080/",
          "height": 929
        },
        "id": "xKW8x_p4IrCH",
        "outputId": "ad1fcee4-ffaf-4978-9cae-f49f5f558678"
      },
      "execution_count": 30,
      "outputs": [
        {
          "output_type": "stream",
          "name": "stdout",
          "text": [
            "Requirement already satisfied: transformers in /usr/local/lib/python3.11/dist-packages (4.51.3)\n",
            "Collecting fpdf2\n",
            "  Downloading fpdf2-2.8.3-py2.py3-none-any.whl.metadata (69 kB)\n",
            "\u001b[2K     \u001b[90m━━━━━━━━━━━━━━━━━━━━━━━━━━━━━━━━━━━━━━━━\u001b[0m \u001b[32m69.7/69.7 kB\u001b[0m \u001b[31m2.0 MB/s\u001b[0m eta \u001b[36m0:00:00\u001b[0m\n",
            "\u001b[?25hRequirement already satisfied: torch in /usr/local/lib/python3.11/dist-packages (2.6.0+cu124)\n",
            "Requirement already satisfied: filelock in /usr/local/lib/python3.11/dist-packages (from transformers) (3.18.0)\n",
            "Requirement already satisfied: huggingface-hub<1.0,>=0.30.0 in /usr/local/lib/python3.11/dist-packages (from transformers) (0.31.2)\n",
            "Requirement already satisfied: numpy>=1.17 in /usr/local/lib/python3.11/dist-packages (from transformers) (2.0.2)\n",
            "Requirement already satisfied: packaging>=20.0 in /usr/local/lib/python3.11/dist-packages (from transformers) (24.2)\n",
            "Requirement already satisfied: pyyaml>=5.1 in /usr/local/lib/python3.11/dist-packages (from transformers) (6.0.2)\n",
            "Requirement already satisfied: regex!=2019.12.17 in /usr/local/lib/python3.11/dist-packages (from transformers) (2024.11.6)\n",
            "Requirement already satisfied: requests in /usr/local/lib/python3.11/dist-packages (from transformers) (2.32.3)\n",
            "Requirement already satisfied: tokenizers<0.22,>=0.21 in /usr/local/lib/python3.11/dist-packages (from transformers) (0.21.1)\n",
            "Requirement already satisfied: safetensors>=0.4.3 in /usr/local/lib/python3.11/dist-packages (from transformers) (0.5.3)\n",
            "Requirement already satisfied: tqdm>=4.27 in /usr/local/lib/python3.11/dist-packages (from transformers) (4.67.1)\n",
            "Requirement already satisfied: defusedxml in /usr/local/lib/python3.11/dist-packages (from fpdf2) (0.7.1)\n",
            "Requirement already satisfied: Pillow!=9.2.*,>=6.2.2 in /usr/local/lib/python3.11/dist-packages (from fpdf2) (11.2.1)\n",
            "Requirement already satisfied: fonttools>=4.34.0 in /usr/local/lib/python3.11/dist-packages (from fpdf2) (4.58.0)\n",
            "Requirement already satisfied: typing-extensions>=4.10.0 in /usr/local/lib/python3.11/dist-packages (from torch) (4.13.2)\n",
            "Requirement already satisfied: networkx in /usr/local/lib/python3.11/dist-packages (from torch) (3.4.2)\n",
            "Requirement already satisfied: jinja2 in /usr/local/lib/python3.11/dist-packages (from torch) (3.1.6)\n",
            "Requirement already satisfied: fsspec in /usr/local/lib/python3.11/dist-packages (from torch) (2025.3.2)\n",
            "Requirement already satisfied: nvidia-cuda-nvrtc-cu12==12.4.127 in /usr/local/lib/python3.11/dist-packages (from torch) (12.4.127)\n",
            "Requirement already satisfied: nvidia-cuda-runtime-cu12==12.4.127 in /usr/local/lib/python3.11/dist-packages (from torch) (12.4.127)\n",
            "Requirement already satisfied: nvidia-cuda-cupti-cu12==12.4.127 in /usr/local/lib/python3.11/dist-packages (from torch) (12.4.127)\n",
            "Requirement already satisfied: nvidia-cudnn-cu12==9.1.0.70 in /usr/local/lib/python3.11/dist-packages (from torch) (9.1.0.70)\n",
            "Requirement already satisfied: nvidia-cublas-cu12==12.4.5.8 in /usr/local/lib/python3.11/dist-packages (from torch) (12.4.5.8)\n",
            "Requirement already satisfied: nvidia-cufft-cu12==11.2.1.3 in /usr/local/lib/python3.11/dist-packages (from torch) (11.2.1.3)\n",
            "Requirement already satisfied: nvidia-curand-cu12==10.3.5.147 in /usr/local/lib/python3.11/dist-packages (from torch) (10.3.5.147)\n",
            "Requirement already satisfied: nvidia-cusolver-cu12==11.6.1.9 in /usr/local/lib/python3.11/dist-packages (from torch) (11.6.1.9)\n",
            "Requirement already satisfied: nvidia-cusparse-cu12==12.3.1.170 in /usr/local/lib/python3.11/dist-packages (from torch) (12.3.1.170)\n",
            "Requirement already satisfied: nvidia-cusparselt-cu12==0.6.2 in /usr/local/lib/python3.11/dist-packages (from torch) (0.6.2)\n",
            "Requirement already satisfied: nvidia-nccl-cu12==2.21.5 in /usr/local/lib/python3.11/dist-packages (from torch) (2.21.5)\n",
            "Requirement already satisfied: nvidia-nvtx-cu12==12.4.127 in /usr/local/lib/python3.11/dist-packages (from torch) (12.4.127)\n",
            "Requirement already satisfied: nvidia-nvjitlink-cu12==12.4.127 in /usr/local/lib/python3.11/dist-packages (from torch) (12.4.127)\n",
            "Requirement already satisfied: triton==3.2.0 in /usr/local/lib/python3.11/dist-packages (from torch) (3.2.0)\n",
            "Requirement already satisfied: sympy==1.13.1 in /usr/local/lib/python3.11/dist-packages (from torch) (1.13.1)\n",
            "Requirement already satisfied: mpmath<1.4,>=1.1.0 in /usr/local/lib/python3.11/dist-packages (from sympy==1.13.1->torch) (1.3.0)\n",
            "Requirement already satisfied: MarkupSafe>=2.0 in /usr/local/lib/python3.11/dist-packages (from jinja2->torch) (3.0.2)\n",
            "Requirement already satisfied: charset-normalizer<4,>=2 in /usr/local/lib/python3.11/dist-packages (from requests->transformers) (3.4.2)\n",
            "Requirement already satisfied: idna<4,>=2.5 in /usr/local/lib/python3.11/dist-packages (from requests->transformers) (3.10)\n",
            "Requirement already satisfied: urllib3<3,>=1.21.1 in /usr/local/lib/python3.11/dist-packages (from requests->transformers) (2.4.0)\n",
            "Requirement already satisfied: certifi>=2017.4.17 in /usr/local/lib/python3.11/dist-packages (from requests->transformers) (2025.4.26)\n",
            "Downloading fpdf2-2.8.3-py2.py3-none-any.whl (245 kB)\n",
            "\u001b[2K   \u001b[90m━━━━━━━━━━━━━━━━━━━━━━━━━━━━━━━━━━━━━━━━\u001b[0m \u001b[32m245.7/245.7 kB\u001b[0m \u001b[31m6.6 MB/s\u001b[0m eta \u001b[36m0:00:00\u001b[0m\n",
            "\u001b[?25hInstalling collected packages: fpdf2\n",
            "Successfully installed fpdf2-2.8.3\n"
          ]
        },
        {
          "output_type": "display_data",
          "data": {
            "application/vnd.colab-display-data+json": {
              "pip_warning": {
                "packages": [
                  "fpdf"
                ]
              },
              "id": "a0ae45953c474b0091b64665f3e0048f"
            }
          },
          "metadata": {}
        }
      ]
    },
    {
      "cell_type": "code",
      "source": [
        "from transformers import pipeline\n",
        "from fpdf import FPDF\n",
        "import textwrap\n",
        "import os\n",
        "import requests"
      ],
      "metadata": {
        "colab": {
          "base_uri": "https://localhost:8080/"
        },
        "id": "WWAEL8uQIq-x",
        "outputId": "b185e74f-d6e0-4209-b0b6-72963cc3087f"
      },
      "execution_count": 1,
      "outputs": [
        {
          "output_type": "stream",
          "name": "stderr",
          "text": [
            "/usr/local/lib/python3.11/dist-packages/fpdf/__init__.py:40: UserWarning: You have both PyFPDF & fpdf2 installed. Both packages cannot be installed at the same time as they share the same module namespace. To only keep fpdf2, run: pip uninstall --yes pypdf && pip install --upgrade fpdf2\n",
            "  warnings.warn(\n"
          ]
        }
      ]
    },
    {
      "cell_type": "code",
      "source": [
        "\n",
        "# 1. Load summarization pipeline\n",
        "summarizer = pipeline(\"summarization\", model=\"philschmid/bart-large-cnn-samsum\")\n",
        "\n",
        "\n",
        "# 2. Split chat text into chunks of 500 words\n",
        "def chunk_text(text, max_words=500):\n",
        "    words = text.split()\n",
        "    return [' '.join(words[i:i + max_words]) for i in range(0, len(words), max_words)]\n",
        "\n",
        "# 3. Summarize each chunk\n",
        "def summarize_long_chat(long_chat_text):\n",
        "    chunks = chunk_text(long_chat_text, max_words=500)\n",
        "    summaries = []\n",
        "\n",
        "    for i, chunk in enumerate(chunks):\n",
        "        print(f\"Summarizing chunk {i+1}/{len(chunks)}...\")\n",
        "        summary = summarizer(chunk, max_length=100, min_length=30, do_sample=False)[0]['summary_text']\n",
        "        summaries.append(summary)\n",
        "\n",
        "    return ' '.join(summaries)\n",
        "\n",
        "\n",
        "# Download DejaVuSans if not present\n",
        "font_url = \"https://github.com/dejavu-fonts/dejavu-fonts/blob/master/ttf/DejaVuSans.ttf?raw=true\"\n",
        "font_path = \"/usr/share/fonts/truetype/dejavu/DejaVuSans.ttf\"\n",
        "\n",
        "if not os.path.exists(font_path):\n",
        "    os.makedirs(os.path.dirname(font_path), exist_ok=True)\n",
        "    with open(font_path, \"wb\") as f:\n",
        "        f.write(requests.get(font_url).content)\n",
        "\n",
        "def create_pdf(summary_text, full_chat_text=None, filename=\"chat_summary.pdf\"):\n",
        "    pdf = FPDF()\n",
        "    pdf.add_page()\n",
        "    pdf.set_auto_page_break(auto=True, margin=15)\n",
        "\n",
        "    # Add Unicode font\n",
        "    pdf.add_font('DejaVu', '', font_path, uni=True)\n",
        "    pdf.set_font(\"DejaVu\", size=14)\n",
        "    pdf.cell(0, 10, txt=\"Doctor-Patient Chat Summary\", ln=True, align=\"C\")\n",
        "    pdf.ln(10)\n",
        "\n",
        "    # Summary\n",
        "    pdf.set_font(\"DejaVu\", size=12)\n",
        "    pdf.cell(0, 10, txt=\"Summary:\", ln=True)\n",
        "    pdf.multi_cell(0, 10, summary_text)\n",
        "\n",
        "    # Full chat\n",
        "    if full_chat_text:\n",
        "        pdf.add_page()\n",
        "        pdf.cell(0, 10, txt=\"Full Chat Transcript:\", ln=True)\n",
        "        pdf.multi_cell(0, 10, full_chat_text)\n",
        "\n",
        "    pdf.output(filename)\n",
        "    print(f\"PDF saved as {filename}\")\n",
        "\n",
        "\n",
        "\n",
        "# Example usage:\n",
        "# long_chat_text = \"Your long chat text here...\"\n",
        "# summary = summarize_long_chat(long_chat_text)\n",
        "# create_pdf(summary_text=summary, full_chat_text=long_chat_text)\n"
      ],
      "metadata": {
        "colab": {
          "base_uri": "https://localhost:8080/"
        },
        "id": "1tGIgaclIq6X",
        "outputId": "b3bf3a69-550a-4543-8800-f7d0bb900e9c"
      },
      "execution_count": 5,
      "outputs": [
        {
          "output_type": "stream",
          "name": "stderr",
          "text": [
            "Device set to use cpu\n"
          ]
        }
      ]
    },
    {
      "cell_type": "code",
      "execution_count": 6,
      "metadata": {
        "id": "0LlWIEHNIX0V"
      },
      "outputs": [],
      "source": [
        "long_chat_text = \"\"\"\n",
        "Doctor: Hello! How are you feeling today?\n",
        "Patient: Not too great, doctor. I've been feeling feverish and weak since last night.\n",
        "Doctor: I’m sorry to hear that. Do you know what your temperature was?\n",
        "Patient: Yes, it was around 101.2°F when I checked this morning.\n",
        "Doctor: Any other symptoms apart from the fever?\n",
        "Patient: My throat is sore and I’ve been feeling a bit nauseous too.\n",
        "Doctor: Do you have a cough or any difficulty breathing?\n",
        "Patient: No cough yet, and my breathing is normal.\n",
        "Doctor: Have you traveled anywhere recently or been in contact with anyone sick?\n",
        "Patient: No recent travel, but one of my colleagues was unwell last week.\n",
        "Doctor: That could be a possible source. Have you taken any medication so far?\n",
        "Patient: I took a paracetamol tablet this morning, it brought the fever down slightly.\n",
        "Doctor: How’s your appetite?\n",
        "Patient: Not great. I skipped breakfast because I was feeling nauseous.\n",
        "Doctor: I see. And any stomach pain or loose motion?\n",
        "Patient: A little discomfort, but no diarrhea.\n",
        "Doctor: What’s your hydration level? Are you drinking enough fluids?\n",
        "Patient: Trying to. I’ve had two glasses of water and some soup so far.\n",
        "Doctor: That’s good. Keep sipping water frequently. Have you had any similar episodes before?\n",
        "Patient: I do get mild seasonal infections around this time, but not usually with nausea.\n",
        "Doctor: Are you allergic to any medications?\n",
        "Patient: Not that I’m aware of.\n",
        "Doctor: Any ongoing conditions like diabetes, hypertension, or asthma?\n",
        "Patient: No, I’m otherwise healthy.\n",
        "Doctor: That’s good. I’ll suggest continuing paracetamol every 6 hours if the fever persists.\n",
        "Patient: Okay, and should I eat something before taking it?\n",
        "Doctor: Yes, preferably after food or with a light snack to avoid gastric issues.\n",
        "Patient: Got it. Should I get tested for anything?\n",
        "Doctor: If the fever continues for more than 2 days, we’ll do a blood test and maybe a COVID test too.\n",
        "Patient: Alright, I’ll monitor closely. Is it safe to rest at home?\n",
        "Doctor: Yes, but if you experience high-grade fever, shortness of breath, or persistent vomiting, visit a clinic immediately.\n",
        "Patient: Sure. Thank you for the guidance, doctor.\n",
        "Doctor: You're welcome. Take rest, eat light, stay hydrated, and don’t worry. I’ll check back tomorrow.\n",
        "Patient: Thanks a lot!\n",
        "Doctor: Take care.\n",
        "\"\"\"\n"
      ]
    },
    {
      "cell_type": "code",
      "source": [
        "# Step 1: Summarize\n",
        "summary = summarize_long_chat(long_chat_text)\n",
        "\n",
        "# Step 2: Save to PDF\n",
        "create_pdf(summary_text=summary, full_chat_text=long_chat_text)"
      ],
      "metadata": {
        "colab": {
          "base_uri": "https://localhost:8080/"
        },
        "id": "wic_Bw_gJE7g",
        "outputId": "d86331c1-d61f-46cd-e2cf-37ee5dd38cc4"
      },
      "execution_count": 7,
      "outputs": [
        {
          "output_type": "stream",
          "name": "stdout",
          "text": [
            "Summarizing chunk 1/1...\n",
            "PDF saved as chat_summary.pdf\n"
          ]
        },
        {
          "output_type": "stream",
          "name": "stderr",
          "text": [
            "<ipython-input-5-2de6037eca35>:46: DeprecationWarning: \"uni\" parameter is deprecated since v2.5.1, unused and will soon be removed\n",
            "  pdf.add_font('DejaVu', '', font_path, uni=True)\n",
            "<ipython-input-5-2de6037eca35>:48: DeprecationWarning: The parameter \"txt\" has been renamed to \"text\" in 2.7.6\n",
            "  pdf.cell(0, 10, txt=\"Doctor-Patient Chat Summary\", ln=True, align=\"C\")\n",
            "<ipython-input-5-2de6037eca35>:48: DeprecationWarning: The parameter \"ln\" is deprecated since v2.5.2. Instead of ln=True use new_x=XPos.LMARGIN, new_y=YPos.NEXT.\n",
            "  pdf.cell(0, 10, txt=\"Doctor-Patient Chat Summary\", ln=True, align=\"C\")\n",
            "<ipython-input-5-2de6037eca35>:53: DeprecationWarning: The parameter \"txt\" has been renamed to \"text\" in 2.7.6\n",
            "  pdf.cell(0, 10, txt=\"Summary:\", ln=True)\n",
            "<ipython-input-5-2de6037eca35>:53: DeprecationWarning: The parameter \"ln\" is deprecated since v2.5.2. Instead of ln=True use new_x=XPos.LMARGIN, new_y=YPos.NEXT.\n",
            "  pdf.cell(0, 10, txt=\"Summary:\", ln=True)\n",
            "<ipython-input-5-2de6037eca35>:59: DeprecationWarning: The parameter \"txt\" has been renamed to \"text\" in 2.7.6\n",
            "  pdf.cell(0, 10, txt=\"Full Chat Transcript:\", ln=True)\n",
            "<ipython-input-5-2de6037eca35>:59: DeprecationWarning: The parameter \"ln\" is deprecated since v2.5.2. Instead of ln=True use new_x=XPos.LMARGIN, new_y=YPos.NEXT.\n",
            "  pdf.cell(0, 10, txt=\"Full Chat Transcript:\", ln=True)\n"
          ]
        }
      ]
    },
    {
      "cell_type": "code",
      "source": [
        "!apt-get install -y fonts-dejavu\n"
      ],
      "metadata": {
        "colab": {
          "base_uri": "https://localhost:8080/"
        },
        "id": "IHU4yAA6Kn4h",
        "outputId": "0376a203-0f53-4765-8f69-ca2fd40bcae3"
      },
      "execution_count": 22,
      "outputs": [
        {
          "output_type": "stream",
          "name": "stdout",
          "text": [
            "Reading package lists... Done\n",
            "Building dependency tree... Done\n",
            "Reading state information... Done\n",
            "fonts-dejavu is already the newest version (2.37-2build1).\n",
            "0 upgraded, 0 newly installed, 0 to remove and 34 not upgraded.\n"
          ]
        }
      ]
    }
  ]
}