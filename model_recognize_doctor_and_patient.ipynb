{
  "nbformat": 4,
  "nbformat_minor": 0,
  "metadata": {
    "colab": {
      "provenance": [],
      "authorship_tag": "ABX9TyOgB8hdduPU02q4HyNc+dNC",
      "include_colab_link": true
    },
    "kernelspec": {
      "name": "python3",
      "display_name": "Python 3"
    },
    "language_info": {
      "name": "python"
    }
  },
  "cells": [
    {
      "cell_type": "markdown",
      "metadata": {
        "id": "view-in-github",
        "colab_type": "text"
      },
      "source": [
        "<a href=\"https://colab.research.google.com/github/meetarora10/veersa-hack/blob/main/model_recognize_doctor_and_patient.ipynb\" target=\"_parent\"><img src=\"https://colab.research.google.com/assets/colab-badge.svg\" alt=\"Open In Colab\"/></a>"
      ]
    },
    {
      "cell_type": "code",
      "execution_count": null,
      "metadata": {
        "id": "t34iT5lPV9eS"
      },
      "outputs": [],
      "source": [
        "# import requests\n",
        "\n",
        "# url = \"https://api.deepgram.com/v1/listen\"\n",
        "# headers = {\n",
        "#     \"Authorization\": \"0b6d77fe6ccee8475bccfd2b8912749ad2b3846f\",\n",
        "# }\n",
        "# audio = open(\"meeting_audio.wav\", \"rb\")\n",
        "\n",
        "# response = requests.post(url, headers=headers, files={\"file\": audio}, data={\"diarize\": \"true\"})\n",
        "# transcript = response.json()[\"results\"][\"channels\"][0][\"alternatives\"][0][\"transcript\"]\n",
        "# utterances = response.json()[\"results\"][\"utterances\"]\n"
      ]
    },
    {
      "cell_type": "code",
      "source": [
        "# def format_dialogue(utterances):\n",
        "#     dialogue = []\n",
        "#     for u in utterances:\n",
        "#         speaker = \"Doctor\" if u[\"speaker\"] == 0 else \"Patient\"\n",
        "#         dialogue.append(f\"{speaker}: {u['transcript']}\")\n",
        "#     return \"\\n\".join(dialogue)\n"
      ],
      "metadata": {
        "id": "sCKlPPKNWKn_"
      },
      "execution_count": null,
      "outputs": []
    },
    {
      "cell_type": "code",
      "source": [
        "# print(format_dialogue(utterances))"
      ],
      "metadata": {
        "id": "SaBwlYGRWKWW"
      },
      "execution_count": null,
      "outputs": []
    },
    {
      "cell_type": "code",
      "source": [
        "!pip install pydub speechrecognition"
      ],
      "metadata": {
        "colab": {
          "base_uri": "https://localhost:8080/"
        },
        "id": "BcLyAxvrutWv",
        "outputId": "06dc2026-5894-46fd-9654-63081b52febe"
      },
      "execution_count": null,
      "outputs": [
        {
          "output_type": "stream",
          "name": "stdout",
          "text": [
            "Collecting pydub\n",
            "  Downloading pydub-0.25.1-py2.py3-none-any.whl.metadata (1.4 kB)\n",
            "Collecting speechrecognition\n",
            "  Downloading speechrecognition-3.14.3-py3-none-any.whl.metadata (30 kB)\n",
            "Requirement already satisfied: typing-extensions in /usr/local/lib/python3.11/dist-packages (from speechrecognition) (4.13.2)\n",
            "Downloading pydub-0.25.1-py2.py3-none-any.whl (32 kB)\n",
            "Downloading speechrecognition-3.14.3-py3-none-any.whl (32.9 MB)\n",
            "\u001b[2K   \u001b[90m━━━━━━━━━━━━━━━━━━━━━━━━━━━━━━━━━━━━━━━━\u001b[0m \u001b[32m32.9/32.9 MB\u001b[0m \u001b[31m12.7 MB/s\u001b[0m eta \u001b[36m0:00:00\u001b[0m\n",
            "\u001b[?25hInstalling collected packages: pydub, speechrecognition\n",
            "Successfully installed pydub-0.25.1 speechrecognition-3.14.3\n"
          ]
        }
      ]
    },
    {
      "cell_type": "code",
      "source": [
        "import speech_recognition as sr\n",
        "from pydub import AudioSegment\n",
        "from pydub.silence import split_on_silence\n",
        "\n",
        "# Load the audio file\n",
        "sound = AudioSegment.from_wav(\"doctor_patient.wav\")\n",
        "\n",
        "# Split on silence\n",
        "chunks = split_on_silence(sound, min_silence_len=500, silence_thresh=sound.dBFS-14, keep_silence=250)\n",
        "\n",
        "recognizer = sr.Recognizer()\n",
        "transcripts = []\n",
        "\n",
        "for i, chunk in enumerate(chunks):\n",
        "    chunk.export(f\"chunk{i}.wav\", format=\"wav\")\n",
        "    with sr.AudioFile(f\"chunk{i}.wav\") as source:\n",
        "        audio = recognizer.record(source)\n",
        "        try:\n",
        "            text = recognizer.recognize_google(audio)\n",
        "            transcripts.append(text)\n",
        "        except sr.UnknownValueError:\n",
        "            transcripts.append(\"[Unrecognized]\")\n"
      ],
      "metadata": {
        "id": "RRiEMnVQuqwP"
      },
      "execution_count": null,
      "outputs": []
    },
    {
      "cell_type": "code",
      "source": [
        "import joblib\n",
        "\n",
        "# Load the vectorizer and classifier\n",
        "vectorizer = joblib.load(\"tfidf_vectorizer.pkl\")\n",
        "clf = joblib.load(\"logistic_regression_model.pkl\")\n"
      ],
      "metadata": {
        "id": "RXM2YfSGcVH8"
      },
      "execution_count": null,
      "outputs": []
    },
    {
      "cell_type": "code",
      "source": [
        "# Vectorize the transcripts\n",
        "X = vectorizer.transform(transcripts)\n",
        "\n",
        "# Predict labels\n",
        "labels = clf.predict(X)\n",
        "\n",
        "# Combine labels with transcripts\n",
        "dialogue = []\n",
        "for label, text in zip(labels, transcripts):\n",
        "    dialogue.append(f\"{label}: {text}\")\n",
        "    print(dialogue)\n"
      ],
      "metadata": {
        "colab": {
          "base_uri": "https://localhost:8080/"
        },
        "id": "loPdGFV9u5it",
        "outputId": "20bb8d5e-34ed-4e58-baea-cf86b0686ed8"
      },
      "execution_count": null,
      "outputs": [
        {
          "output_type": "stream",
          "name": "stdout",
          "text": [
            "[\"patient: I've been feeling really weak and feverish for the past few days\"]\n",
            "[\"patient: I've been feeling really weak and feverish for the past few days\", 'doctor: it could be a viral infection but I need to check your vitals to be sure']\n"
          ]
        }
      ]
    },
    {
      "cell_type": "code",
      "source": [
        "print(\"\\n\".join(dialogue))\n"
      ],
      "metadata": {
        "colab": {
          "base_uri": "https://localhost:8080/"
        },
        "id": "cFJagIcHu90w",
        "outputId": "ec5290dd-1478-473a-fa76-c58f77fb80ad"
      },
      "execution_count": null,
      "outputs": [
        {
          "output_type": "stream",
          "name": "stdout",
          "text": [
            "patient: I've been feeling really weak and feverish for the past few days\n",
            "doctor: it could be a viral infection but I need to check your vitals to be sure\n"
          ]
        }
      ]
    }
  ]
}